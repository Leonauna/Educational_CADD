{
 "cells": [
  {
   "cell_type": "code",
   "execution_count": 1,
   "metadata": {},
   "outputs": [],
   "source": [
    "from randomforest_for_cadd import *\n",
    "import pandas as pd"
   ]
  },
  {
   "cell_type": "markdown",
   "metadata": {},
   "source": [
    "Here is our training data:"
   ]
  },
  {
   "cell_type": "code",
   "execution_count": 2,
   "metadata": {},
   "outputs": [
    {
     "data": {
      "text/html": [
       "<div>\n",
       "<style scoped>\n",
       "    .dataframe tbody tr th:only-of-type {\n",
       "        vertical-align: middle;\n",
       "    }\n",
       "\n",
       "    .dataframe tbody tr th {\n",
       "        vertical-align: top;\n",
       "    }\n",
       "\n",
       "    .dataframe thead th {\n",
       "        text-align: right;\n",
       "    }\n",
       "</style>\n",
       "<table border=\"1\" class=\"dataframe\">\n",
       "  <thead>\n",
       "    <tr style=\"text-align: right;\">\n",
       "      <th></th>\n",
       "      <th>CMPD_CHEMBLID</th>\n",
       "      <th>CANONICAL_SMILES</th>\n",
       "      <th>STANDARD_VALUE</th>\n",
       "    </tr>\n",
       "  </thead>\n",
       "  <tbody>\n",
       "    <tr>\n",
       "      <th>0</th>\n",
       "      <td>CHEMBL3623004</td>\n",
       "      <td>C[C@@H]1Cc2c([nH]c3ccccc23)[C@H](N1CC(C)(C)F)c...</td>\n",
       "      <td>0.138</td>\n",
       "    </tr>\n",
       "    <tr>\n",
       "      <th>1</th>\n",
       "      <td>CHEMBL195515</td>\n",
       "      <td>CC\\C(=C(/c1ccc(O)cc1)\\c2ccc(\\C=C\\C(=O)O)cc2)\\c...</td>\n",
       "      <td>0.150</td>\n",
       "    </tr>\n",
       "    <tr>\n",
       "      <th>2</th>\n",
       "      <td>CHEMBL198803</td>\n",
       "      <td>C[C@@H](COc1ccc(cc1)C(=O)c2c(sc3cc(O)ccc23)c4c...</td>\n",
       "      <td>0.200</td>\n",
       "    </tr>\n",
       "    <tr>\n",
       "      <th>3</th>\n",
       "      <td>CHEMBL180873</td>\n",
       "      <td>Cc1cccc(c1)C(=O)N2CCN(CC2)c3ccc(cc3)C(=O)c4c(s...</td>\n",
       "      <td>0.270</td>\n",
       "    </tr>\n",
       "    <tr>\n",
       "      <th>4</th>\n",
       "      <td>CHEMBL181368</td>\n",
       "      <td>C[C@H]1[C@@H]([C@@H](Oc2ccc(O)c(F)c12)c3ccc(OC...</td>\n",
       "      <td>0.300</td>\n",
       "    </tr>\n",
       "  </tbody>\n",
       "</table>\n",
       "</div>"
      ],
      "text/plain": [
       "   CMPD_CHEMBLID                                   CANONICAL_SMILES  \\\n",
       "0  CHEMBL3623004  C[C@@H]1Cc2c([nH]c3ccccc23)[C@H](N1CC(C)(C)F)c...   \n",
       "1   CHEMBL195515  CC\\C(=C(/c1ccc(O)cc1)\\c2ccc(\\C=C\\C(=O)O)cc2)\\c...   \n",
       "2   CHEMBL198803  C[C@@H](COc1ccc(cc1)C(=O)c2c(sc3cc(O)ccc23)c4c...   \n",
       "3   CHEMBL180873  Cc1cccc(c1)C(=O)N2CCN(CC2)c3ccc(cc3)C(=O)c4c(s...   \n",
       "4   CHEMBL181368  C[C@H]1[C@@H]([C@@H](Oc2ccc(O)c(F)c12)c3ccc(OC...   \n",
       "\n",
       "   STANDARD_VALUE  \n",
       "0           0.138  \n",
       "1           0.150  \n",
       "2           0.200  \n",
       "3           0.270  \n",
       "4           0.300  "
      ]
     },
     "execution_count": 2,
     "metadata": {},
     "output_type": "execute_result"
    }
   ],
   "source": [
    "training_data = pd.read_csv(\"Data/training_data_raw.csv\", index_col=0)\n",
    "training_data.head()"
   ]
  },
  {
   "cell_type": "markdown",
   "metadata": {},
   "source": [
    "We need to clean it"
   ]
  },
  {
   "cell_type": "code",
   "execution_count": 3,
   "metadata": {},
   "outputs": [],
   "source": [
    "training_data = clean_data(training_data)"
   ]
  },
  {
   "cell_type": "markdown",
   "metadata": {},
   "source": [
    "Now we train a random forest"
   ]
  },
  {
   "cell_type": "code",
   "execution_count": 4,
   "metadata": {},
   "outputs": [],
   "source": [
    "random_forest = train_random_forest(training_data)"
   ]
  },
  {
   "cell_type": "markdown",
   "metadata": {},
   "source": [
    "Now we can use the random forest to predict the affinity of some new structures and identify promising drug targets"
   ]
  },
  {
   "cell_type": "code",
   "execution_count": 5,
   "metadata": {},
   "outputs": [
    {
     "data": {
      "text/html": [
       "<div>\n",
       "<style scoped>\n",
       "    .dataframe tbody tr th:only-of-type {\n",
       "        vertical-align: middle;\n",
       "    }\n",
       "\n",
       "    .dataframe tbody tr th {\n",
       "        vertical-align: top;\n",
       "    }\n",
       "\n",
       "    .dataframe thead th {\n",
       "        text-align: right;\n",
       "    }\n",
       "</style>\n",
       "<table border=\"1\" class=\"dataframe\">\n",
       "  <thead>\n",
       "    <tr style=\"text-align: right;\">\n",
       "      <th></th>\n",
       "      <th>CMPD_CHEMBLID</th>\n",
       "      <th>CANONICAL_SMILES</th>\n",
       "      <th>predicted_affinity</th>\n",
       "    </tr>\n",
       "  </thead>\n",
       "  <tbody>\n",
       "    <tr>\n",
       "      <th>1624</th>\n",
       "      <td>CHEMBL389907</td>\n",
       "      <td>CS(=O)(=O)c1ccc(cc1)c2sc3cc(O)ccc3c2Oc4ccc(OCC...</td>\n",
       "      <td>3.515501</td>\n",
       "    </tr>\n",
       "    <tr>\n",
       "      <th>629</th>\n",
       "      <td>CHEMBL3657177</td>\n",
       "      <td>CN(C)CCOc1ccc(Cn2c(c(C)c3cc(O)ccc23)c4ccc(O)cc...</td>\n",
       "      <td>4.030697</td>\n",
       "    </tr>\n",
       "    <tr>\n",
       "      <th>2202</th>\n",
       "      <td>CHEMBL187069</td>\n",
       "      <td>Oc1ccc(cc1)c2noc3ccc(O)cc23</td>\n",
       "      <td>6.359864</td>\n",
       "    </tr>\n",
       "    <tr>\n",
       "      <th>1222</th>\n",
       "      <td>CHEMBL3427394</td>\n",
       "      <td>OC(=O)\\C=C\\c1ccc(CC2=C(C(=O)Oc3cc(O)ccc23)c4cc...</td>\n",
       "      <td>1.849200</td>\n",
       "    </tr>\n",
       "    <tr>\n",
       "      <th>3708</th>\n",
       "      <td>CHEMBL397343</td>\n",
       "      <td>C[C@]12CC[C@H]3[C@@H](CC=C4C[C@@H]5CC[C@]34CCO...</td>\n",
       "      <td>8.185931</td>\n",
       "    </tr>\n",
       "  </tbody>\n",
       "</table>\n",
       "</div>"
      ],
      "text/plain": [
       "      CMPD_CHEMBLID                                   CANONICAL_SMILES  \\\n",
       "1624   CHEMBL389907  CS(=O)(=O)c1ccc(cc1)c2sc3cc(O)ccc3c2Oc4ccc(OCC...   \n",
       "629   CHEMBL3657177  CN(C)CCOc1ccc(Cn2c(c(C)c3cc(O)ccc23)c4ccc(O)cc...   \n",
       "2202   CHEMBL187069                        Oc1ccc(cc1)c2noc3ccc(O)cc23   \n",
       "1222  CHEMBL3427394  OC(=O)\\C=C\\c1ccc(CC2=C(C(=O)Oc3cc(O)ccc23)c4cc...   \n",
       "3708   CHEMBL397343  C[C@]12CC[C@H]3[C@@H](CC=C4C[C@@H]5CC[C@]34CCO...   \n",
       "\n",
       "      predicted_affinity  \n",
       "1624            3.515501  \n",
       "629             4.030697  \n",
       "2202            6.359864  \n",
       "1222            1.849200  \n",
       "3708            8.185931  "
      ]
     },
     "execution_count": 5,
     "metadata": {},
     "output_type": "execute_result"
    }
   ],
   "source": [
    "test_data = pd.read_csv(\"Data/test_data_clean.csv\", index_col=0)\n",
    "test_data = predict_affinity(random_forest, test_data)\n",
    "test_data.head()"
   ]
  }
 ],
 "metadata": {
  "kernelspec": {
   "display_name": "lshack",
   "language": "python",
   "name": "lshack"
  },
  "language_info": {
   "codemirror_mode": {
    "name": "ipython",
    "version": 3
   },
   "file_extension": ".py",
   "mimetype": "text/x-python",
   "name": "python",
   "nbconvert_exporter": "python",
   "pygments_lexer": "ipython3",
   "version": "3.7.4"
  }
 },
 "nbformat": 4,
 "nbformat_minor": 2
}
